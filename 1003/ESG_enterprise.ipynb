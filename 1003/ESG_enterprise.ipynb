{
 "cells": [
  {
   "cell_type": "code",
   "execution_count": 12,
   "metadata": {},
   "outputs": [],
   "source": [
    "import requests\n",
    "import json"
   ]
  },
  {
   "cell_type": "code",
   "execution_count": 19,
   "metadata": {},
   "outputs": [
    {
     "data": {
      "text/plain": [
       "[{'company_name': 'Asos',\n",
       "  'environment_grade': 'BB',\n",
       "  'environment_level': 'Medium',\n",
       "  'social_grade': 'BB',\n",
       "  'social_level': 'Medium',\n",
       "  'governance_grade': 'B',\n",
       "  'governance_level': 'Medium',\n",
       "  'total_grade': 'B',\n",
       "  'total_level': 'High',\n",
       "  'disclaimer': 'ESG Enterprise\\'s ESG Rating data (\"Scores\") are all based on public information and provided for informational purposes only. No member of ESG Enterprise or related parties make any prediction, warranty or representation whatsoever, expressly or impliedly, either as to the suitability of our Scores for any particular purposes or the validity of any derivative analysis or conclusion based on the Scores.',\n",
       "  'last_processing_date': '22-02-2021',\n",
       "  'environment_score': 264.0,\n",
       "  'social_score': 266.0,\n",
       "  'governance_score': 210.0,\n",
       "  'total': 740.0}]"
      ]
     },
     "execution_count": 19,
     "metadata": {},
     "output_type": "execute_result"
    }
   ],
   "source": [
    "#given company name or symbol return ESG data from ESG Enterprise\n",
    "response = requests.get(\"https://tf689y3hbj.execute-api.us-east-1.amazonaws.com/prod/authorization/search?q=asos&token=4cb3eee013a380a2ac987066c4f1721c\", timeout=5)\n",
    "json.loads(response.text)"
   ]
  },
  {
   "cell_type": "code",
   "execution_count": 18,
   "metadata": {},
   "outputs": [
    {
     "data": {
      "text/plain": [
       "[{'note': \"'[apple' was not found\"},\n",
       " {'company_name': 'Microsoft Corporation',\n",
       "  'environment_grade': 'B',\n",
       "  'environment_level': 'Medium',\n",
       "  'social_grade': 'B',\n",
       "  'social_level': 'Medium',\n",
       "  'governance_grade': 'B',\n",
       "  'governance_level': 'Medium',\n",
       "  'total_grade': 'B',\n",
       "  'total_level': 'Medium',\n",
       "  'disclaimer': 'ESG Enterprise\\'s ESG Rating data (\"Scores\") are all based on public information and provided for informational purposes only. No member of ESG Enterprise or related parties make any prediction, warranty or representation whatsoever, expressly or impliedly, either as to the suitability of our Scores for any particular purposes or the validity of any derivative analysis or conclusion based on the Scores.',\n",
       "  'last_processing_date': '27-02-2021',\n",
       "  'environment_score': 220.0,\n",
       "  'social_score': 200.0,\n",
       "  'governance_score': 200.0,\n",
       "  'total': 620.0},\n",
       " {'company_name': 'Asos',\n",
       "  'environment_grade': 'BB',\n",
       "  'environment_level': 'Medium',\n",
       "  'social_grade': 'BB',\n",
       "  'social_level': 'Medium',\n",
       "  'governance_grade': 'B',\n",
       "  'governance_level': 'Medium',\n",
       "  'total_grade': 'B',\n",
       "  'total_level': 'High',\n",
       "  'disclaimer': 'ESG Enterprise\\'s ESG Rating data (\"Scores\") are all based on public information and provided for informational purposes only. No member of ESG Enterprise or related parties make any prediction, warranty or representation whatsoever, expressly or impliedly, either as to the suitability of our Scores for any particular purposes or the validity of any derivative analysis or conclusion based on the Scores.',\n",
       "  'last_processing_date': '22-02-2021',\n",
       "  'environment_score': 264.0,\n",
       "  'social_score': 266.0,\n",
       "  'governance_score': 210.0,\n",
       "  'total': 740.0},\n",
       " {'company_name': 'Grupo Televisa, S.A.B.',\n",
       "  'environment_grade': 'B',\n",
       "  'environment_level': 'Medium',\n",
       "  'social_grade': 'B',\n",
       "  'social_level': 'Medium',\n",
       "  'governance_grade': 'B',\n",
       "  'governance_level': 'Medium',\n",
       "  'total_grade': 'B',\n",
       "  'total_level': 'Medium',\n",
       "  'disclaimer': 'ESG Enterprise\\'s ESG Rating data (\"Scores\") are all based on public information and provided for informational purposes only. No member of ESG Enterprise or related parties make any prediction, warranty or representation whatsoever, expressly or impliedly, either as to the suitability of our Scores for any particular purposes or the validity of any derivative analysis or conclusion based on the Scores.',\n",
       "  'last_processing_date': '27-02-2021',\n",
       "  'environment_score': 200.0,\n",
       "  'social_score': 200.0,\n",
       "  'governance_score': 200.0,\n",
       "  'total': 600.0},\n",
       " {'company_name': 'Tesla',\n",
       "  'environment_grade': 'B',\n",
       "  'environment_level': 'Medium',\n",
       "  'social_grade': 'B',\n",
       "  'social_level': 'Medium',\n",
       "  'governance_grade': 'B',\n",
       "  'governance_level': 'Medium',\n",
       "  'total_grade': 'B',\n",
       "  'total_level': 'Medium',\n",
       "  'disclaimer': 'ESG Enterprise\\'s ESG Rating data (\"Scores\") are all based on public information and provided for informational purposes only. No member of ESG Enterprise or related parties make any prediction, warranty or representation whatsoever, expressly or impliedly, either as to the suitability of our Scores for any particular purposes or the validity of any derivative analysis or conclusion based on the Scores.',\n",
       "  'last_processing_date': '19-02-2021',\n",
       "  'environment_score': 210.0,\n",
       "  'social_score': 201.0,\n",
       "  'governance_score': 200.0,\n",
       "  'total': 611.0},\n",
       " {'company_name': 'Amazon',\n",
       "  'environment_grade': 'B',\n",
       "  'environment_level': 'Medium',\n",
       "  'social_grade': 'B',\n",
       "  'social_level': 'Medium',\n",
       "  'governance_grade': 'B',\n",
       "  'governance_level': 'Medium',\n",
       "  'total_grade': 'B',\n",
       "  'total_level': 'Medium',\n",
       "  'disclaimer': 'ESG Enterprise\\'s ESG Rating data (\"Scores\") are all based on public information and provided for informational purposes only. No member of ESG Enterprise or related parties make any prediction, warranty or representation whatsoever, expressly or impliedly, either as to the suitability of our Scores for any particular purposes or the validity of any derivative analysis or conclusion based on the Scores.',\n",
       "  'last_processing_date': '19-02-2021',\n",
       "  'environment_score': 215.0,\n",
       "  'social_score': 239.0,\n",
       "  'governance_score': 205.0,\n",
       "  'total': 659.0},\n",
       " {'company_name': 'Royal Dutch Shell plc',\n",
       "  'environment_grade': 'A',\n",
       "  'environment_level': 'Medium',\n",
       "  'social_grade': 'BBB',\n",
       "  'social_level': 'Medium',\n",
       "  'governance_grade': 'BBB',\n",
       "  'governance_level': 'Medium',\n",
       "  'total_grade': 'BBB',\n",
       "  'total_level': 'Excellent',\n",
       "  'disclaimer': 'ESG Enterprise\\'s ESG Rating data (\"Scores\") are all based on public information and provided for informational purposes only. No member of ESG Enterprise or related parties make any prediction, warranty or representation whatsoever, expressly or impliedly, either as to the suitability of our Scores for any particular purposes or the validity of any derivative analysis or conclusion based on the Scores.',\n",
       "  'last_processing_date': '28-02-2021',\n",
       "  'environment_score': 490.0,\n",
       "  'social_score': 300.0,\n",
       "  'governance_score': 300.0,\n",
       "  'total': 1090.0},\n",
       " {'company_name': 'Tiffany & Co.',\n",
       "  'environment_grade': 'B',\n",
       "  'environment_level': 'Medium',\n",
       "  'social_grade': 'B',\n",
       "  'social_level': 'Medium',\n",
       "  'governance_grade': 'B',\n",
       "  'governance_level': 'Medium',\n",
       "  'total_grade': 'B',\n",
       "  'total_level': 'Medium',\n",
       "  'disclaimer': 'ESG Enterprise\\'s ESG Rating data (\"Scores\") are all based on public information and provided for informational purposes only. No member of ESG Enterprise or related parties make any prediction, warranty or representation whatsoever, expressly or impliedly, either as to the suitability of our Scores for any particular purposes or the validity of any derivative analysis or conclusion based on the Scores.',\n",
       "  'last_processing_date': '28-02-2021',\n",
       "  'environment_score': 240.0,\n",
       "  'social_score': 200.0,\n",
       "  'governance_score': 200.0,\n",
       "  'total': 640.0}]"
      ]
     },
     "execution_count": 18,
     "metadata": {},
     "output_type": "execute_result"
    }
   ],
   "source": [
    "response1 = requests.get(\"https://tf689y3hbj.execute-api.us-east-1.amazonaws.com/prod/authorization/search?q=[apple, microsoft, asos, visa, tesla, amazon, shell, tiffany & co]&token=4cb3eee013a380a2ac987066c4f1721c\", timeout=5)\n",
    "json.loads(response1.text)"
   ]
  },
  {
   "cell_type": "code",
   "execution_count": null,
   "metadata": {},
   "outputs": [],
   "source": []
  }
 ],
 "metadata": {
  "kernelspec": {
   "display_name": "Python 3",
   "language": "python",
   "name": "python3"
  },
  "language_info": {
   "codemirror_mode": {
    "name": "ipython",
    "version": 3
   },
   "file_extension": ".py",
   "mimetype": "text/x-python",
   "name": "python",
   "nbconvert_exporter": "python",
   "pygments_lexer": "ipython3",
   "version": "3.8.3"
  }
 },
 "nbformat": 4,
 "nbformat_minor": 4
}
