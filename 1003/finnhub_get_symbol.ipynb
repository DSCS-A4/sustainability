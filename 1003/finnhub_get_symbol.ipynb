{
 "cells": [
  {
   "cell_type": "code",
   "execution_count": 1,
   "metadata": {},
   "outputs": [],
   "source": [
    "import json\n",
    "import requests"
   ]
  },
  {
   "cell_type": "code",
   "execution_count": 8,
   "metadata": {},
   "outputs": [],
   "source": [
    "company=['apple', 'microsoft', 'asos', 'visa', 'tesla', 'amazon', 'shell', 'tiffany & co']"
   ]
  },
  {
   "cell_type": "code",
   "execution_count": 2,
   "metadata": {},
   "outputs": [
    {
     "name": "stdout",
     "output_type": "stream",
     "text": [
      "{'count': 12, 'result': [{'description': 'APPLE INC', 'displaySymbol': 'AAPL', 'symbol': 'AAPL', 'type': 'Common Stock'}, {'description': 'APPLE INC', 'displaySymbol': 'APC.BE', 'symbol': 'APC.BE', 'type': 'Common Stock'}, {'description': 'APPLE INC', 'displaySymbol': 'AAPL-RM.ME', 'symbol': 'AAPL-RM.ME', 'type': 'Common Stock'}, {'description': 'APPLE INC', 'displaySymbol': 'AAPL.MI', 'symbol': 'AAPL.MI', 'type': 'Common Stock'}, {'description': 'APPLE INC', 'displaySymbol': 'AAPL.SW', 'symbol': 'AAPL.SW', 'type': 'Common Stock'}, {'description': 'APPLE INC', 'displaySymbol': 'APC.HA', 'symbol': 'APC.HA', 'type': 'Common Stock'}, {'description': 'APPLE INC', 'displaySymbol': 'AAPLCL.SN', 'symbol': 'AAPLCL.SN', 'type': 'Common Stock'}, {'description': 'APPLE INC', 'displaySymbol': 'APC.MU', 'symbol': 'APC.MU', 'type': 'Common Stock'}, {'description': 'APPLE INC', 'displaySymbol': 'AAPLUSD.SW', 'symbol': 'AAPLUSD.SW', 'type': 'Common Stock'}, {'description': 'APPLE INC', 'displaySymbol': 'APC.DE', 'symbol': 'APC.DE', 'type': 'Common Stock'}, {'description': 'APPLE INC', 'displaySymbol': '0R2V.L', 'symbol': '0R2V.L', 'type': 'Common Stock'}, {'description': 'APPLE INC', 'displaySymbol': 'AAPL.VI', 'symbol': 'AAPL.VI', 'type': 'Common Stock'}]}\n"
     ]
    }
   ],
   "source": [
    "#given company name get symbol/ticker\n",
    "r = requests.get('https://finnhub.io/api/v1/search?q=apple&token=c0nrc3n48v6u4a1sep4g')\n",
    "print(r.json())"
   ]
  },
  {
   "cell_type": "code",
   "execution_count": 11,
   "metadata": {},
   "outputs": [
    {
     "name": "stdout",
     "output_type": "stream",
     "text": [
      "{'count': 12, 'result': [{'description': 'MICROSOFT CORP', 'displaySymbol': 'MSFT', 'symbol': 'MSFT', 'type': 'Common Stock'}, {'description': 'MICROSOFT CORP', 'displaySymbol': 'MSF.SG', 'symbol': 'MSF.SG', 'type': 'Common Stock'}, {'description': 'MICROSOFT CORP', 'displaySymbol': 'MSFT.SW', 'symbol': 'MSFT.SW', 'type': 'Common Stock'}, {'description': 'MICROSOFT CORP', 'displaySymbol': 'MSFT.SN', 'symbol': 'MSFT.SN', 'type': 'Common Stock'}, {'description': 'MICROSOFT CORP', 'displaySymbol': 'MSFT*.MX', 'symbol': 'MSFT*.MX', 'type': 'Common Stock'}, {'description': 'MICROSOFT CORP', 'displaySymbol': 'MSF.BE', 'symbol': 'MSF.BE', 'type': 'Common Stock'}, {'description': 'MICROSOFT CORP', 'displaySymbol': 'MSF.DE', 'symbol': 'MSF.DE', 'type': 'Common Stock'}, {'description': 'MICROSOFT CORP', 'displaySymbol': 'MSFT-RM.ME', 'symbol': 'MSFT-RM.ME', 'type': 'Common Stock'}, {'description': 'MICROSOFT CORP', 'displaySymbol': 'MSF.HM', 'symbol': 'MSF.HM', 'type': 'Common Stock'}, {'description': 'MICROSOFT CORP', 'displaySymbol': 'MSFT.BC', 'symbol': 'MSFT.BC', 'type': 'Common Stock'}, {'description': 'MICROSOFT CORP', 'displaySymbol': 'MSFT.VI', 'symbol': 'MSFT.VI', 'type': 'Common Stock'}, {'description': 'MICROSOFT CORP', 'displaySymbol': 'MSF.MU', 'symbol': 'MSF.MU', 'type': 'Common Stock'}]}\n"
     ]
    }
   ],
   "source": [
    "r = requests.get('https://finnhub.io/api/v1/search?q=microsoft&token=c0nrc3n48v6u4a1sep4g')\n",
    "print(r.json())"
   ]
  },
  {
   "cell_type": "code",
   "execution_count": 13,
   "metadata": {},
   "outputs": [
    {
     "name": "stdout",
     "output_type": "stream",
     "text": [
      "{'count': 34, 'result': [{'description': 'T ENGINEERING CORP PCL', 'displaySymbol': 'T.BK', 'symbol': 'T.BK', 'type': 'Common Stock'}, {'description': 'AT&T INC', 'displaySymbol': 'T', 'symbol': 'T', 'type': 'Common Stock'}, {'description': 'TELUS CORP', 'displaySymbol': 'T.TO', 'symbol': 'T.TO', 'type': 'Common Stock'}, {'description': 'TELEKOM MALAYSIA BHD', 'displaySymbol': 'T.KL', 'symbol': 'T.KL', 'type': 'Common Stock'}, {'description': 'AT&T INC', 'displaySymbol': 'T.BC', 'symbol': 'T.BC', 'type': 'Common Stock'}, {'description': 'AT&T INC', 'displaySymbol': 'T.SN', 'symbol': 'T.SN', 'type': 'Common Stock'}, {'description': 'TELUS CORP', 'displaySymbol': 'T.NE', 'symbol': 'T.NE', 'type': 'Common Stock'}, {'description': 'TELUS CORP', 'displaySymbol': 'TU', 'primary': None, 'symbol': 'TU', 'type': 'Common Stock'}, {'description': 'TOYOTA MOTOR CORP -SPON ADR', 'displaySymbol': 'TM', 'primary': None, 'symbol': 'TM', 'type': 'ADR'}, {'description': 'GRUPO TELEVISA SA-SPON ADR', 'displaySymbol': 'TV', 'primary': None, 'symbol': 'TV', 'type': 'ADR'}, {'description': 'TEEKAY CORP', 'displaySymbol': 'TK', 'primary': ['TCD.MU', 'TCD.SG', 'TCD.HM', 'TKN.MX', 'TCD.F'], 'symbol': 'TK', 'type': 'Common Stock'}, {'description': 'TRANE TECHNOLOGIES PLC', 'displaySymbol': 'TT', 'primary': ['I1RP34.SA', '2IS.DU', '2IS.BE', '2IS.MU', '2IS.SG', '2IS.F', '0Y2S.L', 'I1RP34F.SA'], 'symbol': 'TT', 'type': 'Common Stock'}, {'description': 'TORONTO-DOMINION BANK', 'displaySymbol': 'TD', 'primary': None, 'symbol': 'TD', 'type': 'Common Stock'}, {'description': 'TRI-CONTINENTAL CORP', 'displaySymbol': 'TY', 'primary': ['LP40002085', 'XTYCX'], 'symbol': 'TY', 'type': 'Closed-End Fund'}, {'description': 'TENARIS SA-ADR', 'displaySymbol': 'TS', 'primary': None, 'symbol': 'TS', 'type': 'ADR'}, {'description': 'TERNIUM SA-SPONSORED ADR', 'displaySymbol': 'TX', 'primary': ['T5Z.SG', 'TXR3.BA', 'TXR2.BA', 'TX.MX', 'TXSA34F.SA', 'TXSA34.SA', 'T5Z.BE', 'TXR1.BA', 'T5Z.MU', 'TXRC3.BA', 'TXRD3.BA', 'T5Z.F'], 'symbol': 'TX', 'type': 'ADR'}, {'description': 'TRADEWEB MARKETS INC-CLASS A', 'displaySymbol': 'TW', 'primary': ['4T0.F', '4T0.MU', '4T0.DU', '4T0.SG', '4T0.BE'], 'symbol': 'TW', 'type': 'Common Stock'}, {'description': 'TUANCHE LTD-ADR', 'displaySymbol': 'TC', 'primary': [], 'symbol': 'TC', 'type': 'ADR'}, {'description': 'TREDEGAR CORP', 'displaySymbol': 'TG', 'primary': ['T70.SG', 'T70.F', 'T70.BE'], 'symbol': 'TG', 'type': 'Common Stock'}, {'description': 'TARGET HOSPITALITY CORP', 'displaySymbol': 'TH', 'primary': [], 'symbol': 'TH', 'type': 'Common Stock'}, {'description': 'TRAVELCENTERS OF AMERICA INC', 'displaySymbol': 'TA', 'primary': ['T8A1.F', 'T8A1.SG'], 'symbol': 'TA', 'type': 'Common Stock'}, {'description': 'TOOTSIE ROLL INDS', 'displaySymbol': 'TR', 'primary': ['TZ3.F', 'TZ3.DU', 'TROLB'], 'symbol': 'TR', 'type': 'Common Stock'}, {'description': 'Test', 'displaySymbol': 'ZIEXT', 'symbol': 'ZIEXT', 'type': ''}, {'description': 'Test', 'displaySymbol': 'PTEST', 'symbol': 'PTEST', 'type': ''}, {'description': 'Test', 'displaySymbol': 'CBO', 'symbol': 'CBO', 'type': ''}, {'description': 'Test', 'displaySymbol': 'ZEXIT', 'symbol': 'ZEXIT', 'type': ''}, {'description': 'YTN', 'displaySymbol': '040300.KQ', 'symbol': '040300.KQ', 'type': 'Common Stock'}, {'description': 'DBT', 'displaySymbol': 'ALDBT.PA', 'symbol': 'ALDBT.PA', 'type': 'Common Stock'}, {'description': 'DBT', 'displaySymbol': '4Y5.F', 'symbol': '4Y5.F', 'type': 'Common Stock'}, {'description': 'TTI', 'displaySymbol': 'ALTTI.PA', 'symbol': 'ALTTI.PA', 'type': 'Common Stock'}, {'description': 'SBT', 'displaySymbol': 'MLSBT.PA', 'symbol': 'MLSBT.PA', 'type': 'Common Stock'}, {'description': 'DBT', 'displaySymbol': '4Y5.MU', 'symbol': '4Y5.MU', 'type': 'Common Stock'}, {'description': 'STG', 'displaySymbol': '5858.T', 'symbol': '5858.T', 'type': 'Common Stock'}, {'description': 'DBT', 'displaySymbol': '4Y5.SG', 'symbol': '4Y5.SG', 'type': 'Common Stock'}]}\n"
     ]
    }
   ],
   "source": [
    "#for multiple company names\n",
    "r = requests.get('https://finnhub.io/api/v1/search?q=t&token=c0nrc3n48v6u4a1sep4g', data={'company':['microsoft', 'asos', 'visa', 'tesla', 'amazon', 'shell', 'tiffany & co']})\n",
    "print(r.json())"
   ]
  },
  {
   "cell_type": "code",
   "execution_count": null,
   "metadata": {},
   "outputs": [],
   "source": []
  }
 ],
 "metadata": {
  "kernelspec": {
   "display_name": "Python 3",
   "language": "python",
   "name": "python3"
  },
  "language_info": {
   "codemirror_mode": {
    "name": "ipython",
    "version": 3
   },
   "file_extension": ".py",
   "mimetype": "text/x-python",
   "name": "python",
   "nbconvert_exporter": "python",
   "pygments_lexer": "ipython3",
   "version": "3.8.3"
  }
 },
 "nbformat": 4,
 "nbformat_minor": 4
}
