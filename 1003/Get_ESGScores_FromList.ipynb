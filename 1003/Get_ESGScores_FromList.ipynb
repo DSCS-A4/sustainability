{
 "cells": [
  {
   "cell_type": "code",
   "execution_count": 4,
   "metadata": {},
   "outputs": [],
   "source": [
    "import requests\n",
    "import pandas as pd"
   ]
  },
  {
   "cell_type": "code",
   "execution_count": 37,
   "metadata": {},
   "outputs": [],
   "source": [
    "#VIA RAPID API\n",
    "#url = \"https://esg-environmental-social-governance-data.p.rapidapi.com/search\"\n",
    "\n",
    "#querystring = {\"q\":\"AAPL\", \"q\":\"TSLA\"}\n",
    "\n",
    "#headers = {\n",
    "    #'x-rapidapi-key': \"\",\n",
    "    #'x-rapidapi-host': \"esg-environmental-social-governance-data.p.rapidapi.com\"\n",
    "    #}\n",
    "\n",
    "#response = requests.request(\"GET\", url, headers=headers, params=querystring)\n",
    "\n",
    "#print(response.text)"
   ]
  },
  {
   "cell_type": "code",
   "execution_count": 55,
   "metadata": {},
   "outputs": [],
   "source": [
    "#THIS WORKS SO WE CAN PASS MULTIPLE VALUES!!!!!!\n",
    "#url='https://tf689y3hbj.execute-api.us-east-1.amazonaws.com/prod/authorization/search?&token='\n",
    "#query = {\"q\":\"TSLA, XRX, AAPL\"}\n",
    "\n",
    "#response = requests.request(\"GET\", url, params=query)\n",
    "#print(response.text)"
   ]
  },
  {
   "cell_type": "code",
   "execution_count": 56,
   "metadata": {},
   "outputs": [],
   "source": [
    "#PASSING A STRING IN A LIST AS A VALUE -- not quite there yet\n",
    "#tickers=[\"AAPL, TSLA, XRX\"]\n",
    "\n",
    "#url='https://tf689y3hbj.execute-api.us-east-1.amazonaws.com/prod/authorization/search?&token='\n",
    "#query = {\"q\":tickers}\n",
    "\n",
    "#response = requests.request(\"GET\", url, params=query)\n",
    "#print(response.text)"
   ]
  },
  {
   "cell_type": "code",
   "execution_count": 57,
   "metadata": {},
   "outputs": [
    {
     "name": "stdout",
     "output_type": "stream",
     "text": [
      "[{'company_name': 'Apple Inc.', 'environment_grade': 'B', 'environment_level': 'Medium', 'social_grade': 'B', 'social_level': 'Medium', 'governance_grade': 'B', 'governance_level': 'Medium', 'total_grade': 'B', 'total_level': 'Medium', 'disclaimer': 'ESG Enterprise\\'s ESG Rating data (\"Scores\") are all based on public information and provided for informational purposes only. No member of ESG Enterprise or related parties make any prediction, warranty or representation whatsoever, expressly or impliedly, either as to the suitability of our Scores for any particular purposes or the validity of any derivative analysis or conclusion based on the Scores.', 'last_processing_date': '25-02-2021', 'environment_score': 205.0, 'social_score': 240.0, 'governance_score': 200.0, 'total': 645.0}, {'company_name': 'Tesla, Inc.', 'environment_grade': 'B', 'environment_level': 'Medium', 'social_grade': 'B', 'social_level': 'Medium', 'governance_grade': 'B', 'governance_level': 'Medium', 'total_grade': 'B', 'total_level': 'Medium', 'disclaimer': 'ESG Enterprise\\'s ESG Rating data (\"Scores\") are all based on public information and provided for informational purposes only. No member of ESG Enterprise or related parties make any prediction, warranty or representation whatsoever, expressly or impliedly, either as to the suitability of our Scores for any particular purposes or the validity of any derivative analysis or conclusion based on the Scores.', 'last_processing_date': '28-02-2021', 'environment_score': 200.0, 'social_score': 201.0, 'governance_score': 205.0, 'total': 606.0}, {'company_name': 'Xerox Holdings Corporation', 'environment_grade': 'B', 'environment_level': 'Medium', 'social_grade': 'B', 'social_level': 'Medium', 'governance_grade': 'B', 'governance_level': 'Medium', 'total_grade': 'B', 'total_level': 'Medium', 'disclaimer': 'ESG Enterprise\\'s ESG Rating data (\"Scores\") are all based on public information and provided for informational purposes only. No member of ESG Enterprise or related parties make any prediction, warranty or representation whatsoever, expressly or impliedly, either as to the suitability of our Scores for any particular purposes or the validity of any derivative analysis or conclusion based on the Scores.', 'last_processing_date': '09-02-2021', 'environment_score': 227.0, 'social_score': 225.0, 'governance_score': 200.0, 'total': 652.0}]\n"
     ]
    }
   ],
   "source": [
    "#LIST TICKERS 2 QUERY STRING TO QUERY -- YESSS!!!!\n",
    "##might need adapting based on how the list looks like (of companies;)\n",
    "\n",
    "tickers=[\"AAPL\", \"TSLA\", \"XRX\"]\n",
    "qts = ','.join(tickers)\n",
    "#print(qts)\n",
    "\n",
    "url='https://tf689y3hbj.execute-api.us-east-1.amazonaws.com/prod/authorization/search?&token='\n",
    "query = {\"q\":qts}\n",
    "\n",
    "response = requests.request(\"GET\", url, params=query)\n",
    "print(response.json())"
   ]
  },
  {
   "cell_type": "code",
   "execution_count": 61,
   "metadata": {},
   "outputs": [],
   "source": [
    "data = response.text\n",
    "df = pd.read_json(data, orient='records')"
   ]
  },
  {
   "cell_type": "code",
   "execution_count": 65,
   "metadata": {},
   "outputs": [
    {
     "data": {
      "text/html": [
       "<div>\n",
       "<style scoped>\n",
       "    .dataframe tbody tr th:only-of-type {\n",
       "        vertical-align: middle;\n",
       "    }\n",
       "\n",
       "    .dataframe tbody tr th {\n",
       "        vertical-align: top;\n",
       "    }\n",
       "\n",
       "    .dataframe thead th {\n",
       "        text-align: right;\n",
       "    }\n",
       "</style>\n",
       "<table border=\"1\" class=\"dataframe\">\n",
       "  <thead>\n",
       "    <tr style=\"text-align: right;\">\n",
       "      <th></th>\n",
       "      <th>company_name</th>\n",
       "      <th>environment_grade</th>\n",
       "      <th>environment_level</th>\n",
       "      <th>social_grade</th>\n",
       "      <th>social_level</th>\n",
       "      <th>governance_grade</th>\n",
       "      <th>governance_level</th>\n",
       "      <th>total_grade</th>\n",
       "      <th>total_level</th>\n",
       "      <th>disclaimer</th>\n",
       "      <th>last_processing_date</th>\n",
       "      <th>environment_score</th>\n",
       "      <th>social_score</th>\n",
       "      <th>governance_score</th>\n",
       "      <th>total</th>\n",
       "    </tr>\n",
       "  </thead>\n",
       "  <tbody>\n",
       "    <tr>\n",
       "      <td>0</td>\n",
       "      <td>Apple Inc.</td>\n",
       "      <td>B</td>\n",
       "      <td>Medium</td>\n",
       "      <td>B</td>\n",
       "      <td>Medium</td>\n",
       "      <td>B</td>\n",
       "      <td>Medium</td>\n",
       "      <td>B</td>\n",
       "      <td>Medium</td>\n",
       "      <td>ESG Enterprise's ESG Rating data (\"Scores\") ar...</td>\n",
       "      <td>25-02-2021</td>\n",
       "      <td>205</td>\n",
       "      <td>240</td>\n",
       "      <td>200</td>\n",
       "      <td>645</td>\n",
       "    </tr>\n",
       "    <tr>\n",
       "      <td>1</td>\n",
       "      <td>Tesla, Inc.</td>\n",
       "      <td>B</td>\n",
       "      <td>Medium</td>\n",
       "      <td>B</td>\n",
       "      <td>Medium</td>\n",
       "      <td>B</td>\n",
       "      <td>Medium</td>\n",
       "      <td>B</td>\n",
       "      <td>Medium</td>\n",
       "      <td>ESG Enterprise's ESG Rating data (\"Scores\") ar...</td>\n",
       "      <td>28-02-2021</td>\n",
       "      <td>200</td>\n",
       "      <td>201</td>\n",
       "      <td>205</td>\n",
       "      <td>606</td>\n",
       "    </tr>\n",
       "    <tr>\n",
       "      <td>2</td>\n",
       "      <td>Xerox Holdings Corporation</td>\n",
       "      <td>B</td>\n",
       "      <td>Medium</td>\n",
       "      <td>B</td>\n",
       "      <td>Medium</td>\n",
       "      <td>B</td>\n",
       "      <td>Medium</td>\n",
       "      <td>B</td>\n",
       "      <td>Medium</td>\n",
       "      <td>ESG Enterprise's ESG Rating data (\"Scores\") ar...</td>\n",
       "      <td>09-02-2021</td>\n",
       "      <td>227</td>\n",
       "      <td>225</td>\n",
       "      <td>200</td>\n",
       "      <td>652</td>\n",
       "    </tr>\n",
       "  </tbody>\n",
       "</table>\n",
       "</div>"
      ],
      "text/plain": [
       "                 company_name environment_grade environment_level  \\\n",
       "0                  Apple Inc.                 B            Medium   \n",
       "1                 Tesla, Inc.                 B            Medium   \n",
       "2  Xerox Holdings Corporation                 B            Medium   \n",
       "\n",
       "  social_grade social_level governance_grade governance_level total_grade  \\\n",
       "0            B       Medium                B           Medium           B   \n",
       "1            B       Medium                B           Medium           B   \n",
       "2            B       Medium                B           Medium           B   \n",
       "\n",
       "  total_level                                         disclaimer  \\\n",
       "0      Medium  ESG Enterprise's ESG Rating data (\"Scores\") ar...   \n",
       "1      Medium  ESG Enterprise's ESG Rating data (\"Scores\") ar...   \n",
       "2      Medium  ESG Enterprise's ESG Rating data (\"Scores\") ar...   \n",
       "\n",
       "  last_processing_date  environment_score  social_score  governance_score  \\\n",
       "0           25-02-2021                205           240               200   \n",
       "1           28-02-2021                200           201               205   \n",
       "2           09-02-2021                227           225               200   \n",
       "\n",
       "   total  \n",
       "0    645  \n",
       "1    606  \n",
       "2    652  "
      ]
     },
     "execution_count": 65,
     "metadata": {},
     "output_type": "execute_result"
    }
   ],
   "source": [
    "df"
   ]
  },
  {
   "cell_type": "code",
   "execution_count": null,
   "metadata": {},
   "outputs": [],
   "source": []
  },
  {
   "cell_type": "code",
   "execution_count": null,
   "metadata": {},
   "outputs": [],
   "source": []
  }
 ],
 "metadata": {
  "kernelspec": {
   "display_name": "Python 3",
   "language": "python",
   "name": "python3"
  },
  "language_info": {
   "codemirror_mode": {
    "name": "ipython",
    "version": 3
   },
   "file_extension": ".py",
   "mimetype": "text/x-python",
   "name": "python",
   "nbconvert_exporter": "python",
   "pygments_lexer": "ipython3",
   "version": "3.7.4"
  }
 },
 "nbformat": 4,
 "nbformat_minor": 5
}
